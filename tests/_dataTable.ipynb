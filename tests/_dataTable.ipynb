{
 "cells": [
  {
   "cell_type": "code",
   "execution_count": 1,
   "metadata": {},
   "outputs": [],
   "source": [
    "from os import environ as envs\n",
    "from dotenv import load_dotenv, find_dotenv\n",
    "from _getDateInfo import getDateInfo\n",
    "import ftplib"
   ]
  },
  {
   "cell_type": "code",
   "execution_count": 2,
   "metadata": {},
   "outputs": [],
   "source": [
    "load_dotenv(find_dotenv())\n",
    "ftp = ftplib.FTP()"
   ]
  },
  {
   "cell_type": "code",
   "execution_count": 5,
   "metadata": {},
   "outputs": [],
   "source": [
    "try:\n",
    "    ftp.connect(envs.get('FTPHost'), 21)\n",
    "\n",
    "    if ftp.login(envs.get('FTPUser'), envs.get('FTPPass')):\n",
    "        try:\n",
    "            if getDateInfo.getYear() not in ftp.nlst():\n",
    "                ftp.mkd(getDateInfo.getYear())\n",
    "                ftp.cwd(getDateInfo.getYear())\n",
    "\n",
    "            if getDateInfo.nameMonth() not in ftp.nlst():\n",
    "                ftp.mkd(getDateInfo.nameMonth())\n",
    "                ftp.cwd(getDateInfo.nameMonth())\n",
    "\n",
    "            nameFile = f\"{dataInfo[index]['name']} - {getDateInfo.nameMonth()}.xlsx\"\n",
    "            uploadFile = open(rf'./archives/{nameFile}', 'rb')\n",
    "            ftp.storbinary(rf'STOR {nameFile}', uploadFile)\n",
    "            uploadFile.close()\n",
    "        except Exception as e:\n",
    "            print(e)\n",
    "\n",
    "except Exception as e:\n",
    "    print(e)"
   ]
  }
 ],
 "metadata": {
  "kernelspec": {
   "display_name": "Python 3",
   "language": "python",
   "name": "python3"
  },
  "language_info": {
   "codemirror_mode": {
    "name": "ipython",
    "version": 3
   },
   "file_extension": ".py",
   "mimetype": "text/x-python",
   "name": "python",
   "nbconvert_exporter": "python",
   "pygments_lexer": "ipython3",
   "version": "3.11.5"
  },
  "orig_nbformat": 4
 },
 "nbformat": 4,
 "nbformat_minor": 2
}
