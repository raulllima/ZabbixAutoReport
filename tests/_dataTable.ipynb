{
 "cells": [
  {
   "cell_type": "code",
   "execution_count": 19,
   "metadata": {},
   "outputs": [
    {
     "data": {
      "text/plain": [
       "'RAUL'"
      ]
     },
     "execution_count": 19,
     "metadata": {},
     "output_type": "execute_result"
    }
   ],
   "source": [
    "from dotenv import load_dotenv, find_dotenv\n",
    "\n",
    "load_dotenv(find_dotenv())\n",
    "\n",
    "os.environ.get(\"HOST\")"
   ]
  },
  {
   "cell_type": "code",
   "execution_count": 6,
   "metadata": {},
   "outputs": [],
   "source": [
    "import ftplib\n",
    "\n",
    "ftp = ftplib.FTP()\n",
    "\n",
    "host = \"HQBI02\"\n",
    "user = \"AutoReport\"\n",
    "passw= \"login100S&nh@\""
   ]
  },
  {
   "cell_type": "code",
   "execution_count": 11,
   "metadata": {},
   "outputs": [],
   "source": [
    "try:\n",
    "    ftp.connect(host, 21)\n",
    "\n",
    "    if ftp.login(user, passw):\n",
    "        try:\n",
    "            nameFile = 'Prioridade 1 - Setembro.xlsx'\n",
    "            uploadFile = open(rf'../archives/{nameFile}', 'rb')\n",
    "            ftp.storbinary(rf'STOR {nameFile}', uploadFile)\n",
    "            uploadFile.close()\n",
    "        except Exception as e:\n",
    "            print(e)\n",
    "\n",
    "except Exception as e:\n",
    "    print(e)"
   ]
  }
 ],
 "metadata": {
  "kernelspec": {
   "display_name": "Python 3",
   "language": "python",
   "name": "python3"
  },
  "language_info": {
   "codemirror_mode": {
    "name": "ipython",
    "version": 3
   },
   "file_extension": ".py",
   "mimetype": "text/x-python",
   "name": "python",
   "nbconvert_exporter": "python",
   "pygments_lexer": "ipython3",
   "version": "3.11.5"
  },
  "orig_nbformat": 4
 },
 "nbformat": 4,
 "nbformat_minor": 2
}
